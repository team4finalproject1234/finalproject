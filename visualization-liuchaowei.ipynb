{
 "cells": [
  {
   "cell_type": "code",
   "execution_count": 1,
   "id": "a5b9317d",
   "metadata": {},
   "outputs": [],
   "source": [
    "import pandas as pd\n",
    "import numpy as np\n",
    "import matplotlib.pyplot as plt\n",
    "import seaborn as sns\n",
    "from sklearn.linear_model import LinearRegression"
   ]
  },
  {
   "cell_type": "code",
   "execution_count": 41,
   "id": "2e551569",
   "metadata": {},
   "outputs": [
    {
     "data": {
      "image/png": "[encoded data removed]",
      "text/plain": [
       "<Figure size 432x288 with 1 Axes>"
      ]
     },
     "metadata": {
      "needs_background": "light"
     },
     "output_type": "display_data"
    }
   ],
   "source": [
    "df2 = pd.read_csv('result_for_plot.csv',sep=',')\n",
    "result1 = pd.DataFrame()\n",
    "# 计算-log10 (P value)\n",
    "result1['lgp']= -np.log10(df2['U test'])\n",
    "result1['logfc']= df2['MEAN']\n",
    "# 根据 lgp 分为 'non-signficant' 和 'significant' 两类\n",
    "result1['classify'] = 'non'\n",
    "result1['genename']=df2['Gene name']\n",
    "result1.loc[result1.lgp <=1,'classify'] = 'non-significant'\n",
    "result1.loc[result1.lgp >1,'classify'] = 'signficant'\n",
    "sns.countplot(data = result1, x= 'classify')\n",
    "plt.savefig('barplot1.png')"
   ]
  },
  {
   "cell_type": "code",
   "execution_count": 42,
   "id": "570f2a89",
   "metadata": {},
   "outputs": [
    {
     "name": "stderr",
     "output_type": "stream",
     "text": [
      "C:\\Users\\25944\\Anaconda3\\lib\\site-packages\\pandas\\core\\indexing.py:1720: SettingWithCopyWarning: \n",
      "A value is trying to be set on a copy of a slice from a DataFrame.\n",
      "Try using .loc[row_indexer,col_indexer] = value instead\n",
      "\n",
      "See the caveats in the documentation: https://pandas.pydata.org/pandas-docs/stable/user_guide/indexing.html#returning-a-view-versus-a-copy\n",
      "  self._setitem_single_column(loc, value, pi)\n",
      "C:\\Users\\25944\\Anaconda3\\lib\\site-packages\\pandas\\core\\indexing.py:1720: SettingWithCopyWarning: \n",
      "A value is trying to be set on a copy of a slice from a DataFrame.\n",
      "Try using .loc[row_indexer,col_indexer] = value instead\n",
      "\n",
      "See the caveats in the documentation: https://pandas.pydata.org/pandas-docs/stable/user_guide/indexing.html#returning-a-view-versus-a-copy\n",
      "  self._setitem_single_column(loc, value, pi)\n",
      "C:\\Users\\25944\\Anaconda3\\lib\\site-packages\\pandas\\core\\indexing.py:1720: SettingWithCopyWarning: \n",
      "A value is trying to be set on a copy of a slice from a DataFrame.\n",
      "Try using .loc[row_indexer,col_indexer] = value instead\n",
      "\n",
      "See the caveats in the documentation: https://pandas.pydata.org/pandas-docs/stable/user_guide/indexing.html#returning-a-view-versus-a-copy\n",
      "  self._setitem_single_column(loc, value, pi)\n"
     ]
    },
    {
     "data": {
      "image/png": "[encoded data removed]",
      "text/plain": [
       "<Figure size 432x288 with 1 Axes>"
      ]
     },
     "metadata": {
      "needs_background": "light"
     },
     "output_type": "display_data"
    }
   ],
   "source": [
    "result2 = result1[result1.lgp >1]\n",
    "# 根据 logfc 分为 'Non hits', 'Protective hits'和'Toxic hits'三组\n",
    "result2.loc[(result2.logfc >0.5),'classify'] = 'protective hits'\n",
    "result2.loc[(result2.logfc < -0.5),'classify'] = 'toxic hits'\n",
    "result2.loc[(result2.logfc <=0.5)&(result2.logfc >= -0.5),'classify'] = 'non hits'\n",
    "sns.countplot(data = result2, x='classify')\n",
    "plt.savefig('barplot2.png')"
   ]
  },
  {
   "cell_type": "code",
   "execution_count": null,
   "id": "24839636",
   "metadata": {},
   "outputs": [],
   "source": []
  }
 ],
 "metadata": {
  "kernelspec": {
   "display_name": "Python 3",
   "language": "python",
   "name": "python3"
  },
  "language_info": {
   "codemirror_mode": {
    "name": "ipython",
    "version": 3
   },
   "file_extension": ".py",
   "mimetype": "text/x-python",
   "name": "python",
   "nbconvert_exporter": "python",
   "pygments_lexer": "ipython3",
   "version": "3.8.8"
  }
 },
 "nbformat": 4,
 "nbformat_minor": 5
}

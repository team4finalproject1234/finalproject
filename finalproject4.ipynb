{
 "cells": [
  {
   "cell_type": "code",
   "execution_count": 25,
   "id": "149e3385",
   "metadata": {},
   "outputs": [],
   "source": [
    "from Bio.SeqIO.QualityIO import FastqGeneralIterator\n",
    "from Bio import SeqIO\n",
    "import pandas as pd\n",
    "import numpy as np"
   ]
  },
  {
   "cell_type": "code",
   "execution_count": 26,
   "id": "96bbfb50",
   "metadata": {},
   "outputs": [
    {
     "data": {
      "text/plain": [
       "0        TAGGAAGGCTTTGCATATT\n",
       "1        TACTCCCTACAATCCATCT\n",
       "2        ACAATCCATCTGGTCCCAA\n",
       "3        ATGATACTGTCATCTTCTT\n",
       "4        ACAGACGCCTCAGTCTCTG\n",
       "                ...         \n",
       "16320    CGTTTTTGCCCCCGATAAG\n",
       "16321    CCGTAGCGGCGTAACGCGG\n",
       "16322    GAGTCTTGATCTGCTCCCA\n",
       "16323    GCGAGGGTGTCCTCCCATG\n",
       "16324    AGTCCGGTTCTGCGGATGT\n",
       "Length: 16325, dtype: object"
      ]
     },
     "execution_count": 26,
     "metadata": {},
     "output_type": "execute_result"
    }
   ],
   "source": [
    "#读入文件（这个文件我暂时还没用上）\n",
    "sequencesrna = []\n",
    "for record in SeqIO.parse('sgRNA_reference.fa','fasta'):\n",
    "    sequencesrna.append(str(record.seq))\n",
    "pd.Series(sequencesrna)"
   ]
  },
  {
   "cell_type": "code",
   "execution_count": 27,
   "id": "7e59d943",
   "metadata": {},
   "outputs": [],
   "source": [
    "#读入t 0时刻文件\n",
    "sequences0 = []\n",
    "for title, seq, qual in FastqGeneralIterator('t0.fastq'):\n",
    "    #数据清理\n",
    "    sequences0.append(seq[21:40])"
   ]
  },
  {
   "cell_type": "code",
   "execution_count": 28,
   "id": "087ab528",
   "metadata": {},
   "outputs": [
    {
     "data": {
      "text/plain": [
       "4000000"
      ]
     },
     "execution_count": 28,
     "metadata": {},
     "output_type": "execute_result"
    }
   ],
   "source": [
    "len(sequences0)"
   ]
  },
  {
   "cell_type": "code",
   "execution_count": 29,
   "id": "6f0d2b03",
   "metadata": {},
   "outputs": [],
   "source": [
    "#计算t 0时刻频数 \n",
    "counts0=pd.Series(sequences0).value_counts()\n",
    "counts0_sum=pd.Series(sequences0).value_counts().sum()"
   ]
  },
  {
   "cell_type": "code",
   "execution_count": 30,
   "id": "476100d7",
   "metadata": {},
   "outputs": [],
   "source": [
    "#读入t 10时刻文件\n",
    "sequences10 = []\n",
    "for title, seq, qual in FastqGeneralIterator('t10.fastq'):\n",
    "    sequences10.append(seq[20:40])"
   ]
  },
  {
   "cell_type": "code",
   "execution_count": 40,
   "id": "5956ad7a",
   "metadata": {},
   "outputs": [
    {
     "data": {
      "text/plain": [
       "4000000"
      ]
     },
     "execution_count": 40,
     "metadata": {},
     "output_type": "execute_result"
    }
   ],
   "source": [
    "len(sequences10)"
   ]
  },
  {
   "cell_type": "code",
   "execution_count": 32,
   "id": "e426906a",
   "metadata": {},
   "outputs": [],
   "source": [
    "#计算t 10时刻频数\n",
    "counts10=pd.Series(sequences10).value_counts()\n",
    "counts10_sum=pd.Series(sequences10).value_counts().sum()"
   ]
  },
  {
   "cell_type": "code",
   "execution_count": 41,
   "id": "65b5eed1",
   "metadata": {},
   "outputs": [
    {
     "data": {
      "text/plain": [
       "GGCGCTCCTCCACAGCTCC    1852\n",
       "CCCGCGCTCGTTTCACACC    1827\n",
       "TATCGGTCTTTCCGCTGCC    1691\n",
       "CACAGCTCGCTGGCTCCCC    1652\n",
       "TGCGCTCCCCTTTATTTGC    1555\n",
       "                       ... \n",
       "TGTGCCGCGGTTCTTTGTT       1\n",
       "ACCGGTGAGTTCTCGACAC       1\n",
       "ACTGATGCAGCTGCAGTGC       1\n",
       "CGATCTTGCCGATGCTGTT       1\n",
       "CCTTCAGGGGGTCCACCGC       1\n",
       "Length: 309758, dtype: int64"
      ]
     },
     "execution_count": 41,
     "metadata": {},
     "output_type": "execute_result"
    }
   ],
   "source": [
    "counts10"
   ]
  },
  {
   "cell_type": "code",
   "execution_count": 33,
   "id": "de756ad2",
   "metadata": {},
   "outputs": [],
   "source": [
    "#计算t 0时刻频率 \n",
    "countsd0 = pd.DataFrame(counts0,columns=['counts0'])\n",
    "countsd0['freq0']=counts0/counts0_sum"
   ]
  },
  {
   "cell_type": "code",
   "execution_count": 34,
   "id": "657c0b32",
   "metadata": {},
   "outputs": [],
   "source": [
    "#计算t 10时刻频率 \n",
    "countsd10=pd.DataFrame(counts10,columns=['counts10'])\n",
    "countsd10['freq10']=counts10/counts10_sum"
   ]
  },
  {
   "cell_type": "code",
   "execution_count": 35,
   "id": "7a1f406b",
   "metadata": {},
   "outputs": [
    {
     "data": {
      "text/html": [
       "<div>\n",
       "<style scoped>\n",
       "    .dataframe tbody tr th:only-of-type {\n",
       "        vertical-align: middle;\n",
       "    }\n",
       "\n",
       "    .dataframe tbody tr th {\n",
       "        vertical-align: top;\n",
       "    }\n",
       "\n",
       "    .dataframe thead th {\n",
       "        text-align: right;\n",
       "    }\n",
       "</style>\n",
       "<table border=\"1\" class=\"dataframe\">\n",
       "  <thead>\n",
       "    <tr style=\"text-align: right;\">\n",
       "      <th></th>\n",
       "      <th>counts0</th>\n",
       "      <th>freq0</th>\n",
       "    </tr>\n",
       "  </thead>\n",
       "  <tbody>\n",
       "    <tr>\n",
       "      <th>GGTGGTGCCCATCCTGGTC</th>\n",
       "      <td>1025</td>\n",
       "      <td>2.562500e-04</td>\n",
       "    </tr>\n",
       "    <tr>\n",
       "      <th>CCCGCGCTCGTTTCACACC</th>\n",
       "      <td>974</td>\n",
       "      <td>2.435000e-04</td>\n",
       "    </tr>\n",
       "    <tr>\n",
       "      <th>TACCGGCTCCTCTCCGTTC</th>\n",
       "      <td>964</td>\n",
       "      <td>2.410000e-04</td>\n",
       "    </tr>\n",
       "    <tr>\n",
       "      <th>CACTGAACTCGTACAAACC</th>\n",
       "      <td>955</td>\n",
       "      <td>2.387500e-04</td>\n",
       "    </tr>\n",
       "    <tr>\n",
       "      <th>GCAGCTACCTGCTCCCTGC</th>\n",
       "      <td>949</td>\n",
       "      <td>2.372500e-04</td>\n",
       "    </tr>\n",
       "    <tr>\n",
       "      <th>...</th>\n",
       "      <td>...</td>\n",
       "      <td>...</td>\n",
       "    </tr>\n",
       "    <tr>\n",
       "      <th>CTATGTCTCCAAGCTGCCC</th>\n",
       "      <td>1</td>\n",
       "      <td>2.500000e-07</td>\n",
       "    </tr>\n",
       "    <tr>\n",
       "      <th>CTGGTTACTGTGTCCTGAC</th>\n",
       "      <td>1</td>\n",
       "      <td>2.500000e-07</td>\n",
       "    </tr>\n",
       "    <tr>\n",
       "      <th>CGTGTCTCGCGGTCTCCAA</th>\n",
       "      <td>1</td>\n",
       "      <td>2.500000e-07</td>\n",
       "    </tr>\n",
       "    <tr>\n",
       "      <th>AGACTTCAAATCCGAAGGC</th>\n",
       "      <td>1</td>\n",
       "      <td>2.500000e-07</td>\n",
       "    </tr>\n",
       "    <tr>\n",
       "      <th>CCGACAGCCTCGATCCGGC</th>\n",
       "      <td>1</td>\n",
       "      <td>2.500000e-07</td>\n",
       "    </tr>\n",
       "  </tbody>\n",
       "</table>\n",
       "<p>320114 rows × 2 columns</p>\n",
       "</div>"
      ],
      "text/plain": [
       "                     counts0         freq0\n",
       "GGTGGTGCCCATCCTGGTC     1025  2.562500e-04\n",
       "CCCGCGCTCGTTTCACACC      974  2.435000e-04\n",
       "TACCGGCTCCTCTCCGTTC      964  2.410000e-04\n",
       "CACTGAACTCGTACAAACC      955  2.387500e-04\n",
       "GCAGCTACCTGCTCCCTGC      949  2.372500e-04\n",
       "...                      ...           ...\n",
       "CTATGTCTCCAAGCTGCCC        1  2.500000e-07\n",
       "CTGGTTACTGTGTCCTGAC        1  2.500000e-07\n",
       "CGTGTCTCGCGGTCTCCAA        1  2.500000e-07\n",
       "AGACTTCAAATCCGAAGGC        1  2.500000e-07\n",
       "CCGACAGCCTCGATCCGGC        1  2.500000e-07\n",
       "\n",
       "[320114 rows x 2 columns]"
      ]
     },
     "execution_count": 35,
     "metadata": {},
     "output_type": "execute_result"
    }
   ],
   "source": [
    "countsd0"
   ]
  },
  {
   "cell_type": "code",
   "execution_count": 36,
   "id": "afa12ad3",
   "metadata": {},
   "outputs": [
    {
     "data": {
      "text/html": [
       "<div>\n",
       "<style scoped>\n",
       "    .dataframe tbody tr th:only-of-type {\n",
       "        vertical-align: middle;\n",
       "    }\n",
       "\n",
       "    .dataframe tbody tr th {\n",
       "        vertical-align: top;\n",
       "    }\n",
       "\n",
       "    .dataframe thead th {\n",
       "        text-align: right;\n",
       "    }\n",
       "</style>\n",
       "<table border=\"1\" class=\"dataframe\">\n",
       "  <thead>\n",
       "    <tr style=\"text-align: right;\">\n",
       "      <th></th>\n",
       "      <th>counts10</th>\n",
       "      <th>freq10</th>\n",
       "    </tr>\n",
       "  </thead>\n",
       "  <tbody>\n",
       "    <tr>\n",
       "      <th>GGCGCTCCTCCACAGCTCC</th>\n",
       "      <td>1852</td>\n",
       "      <td>4.630000e-04</td>\n",
       "    </tr>\n",
       "    <tr>\n",
       "      <th>CCCGCGCTCGTTTCACACC</th>\n",
       "      <td>1827</td>\n",
       "      <td>4.567500e-04</td>\n",
       "    </tr>\n",
       "    <tr>\n",
       "      <th>TATCGGTCTTTCCGCTGCC</th>\n",
       "      <td>1691</td>\n",
       "      <td>4.227500e-04</td>\n",
       "    </tr>\n",
       "    <tr>\n",
       "      <th>CACAGCTCGCTGGCTCCCC</th>\n",
       "      <td>1652</td>\n",
       "      <td>4.130000e-04</td>\n",
       "    </tr>\n",
       "    <tr>\n",
       "      <th>TGCGCTCCCCTTTATTTGC</th>\n",
       "      <td>1555</td>\n",
       "      <td>3.887500e-04</td>\n",
       "    </tr>\n",
       "    <tr>\n",
       "      <th>...</th>\n",
       "      <td>...</td>\n",
       "      <td>...</td>\n",
       "    </tr>\n",
       "    <tr>\n",
       "      <th>TGTGCCGCGGTTCTTTGTT</th>\n",
       "      <td>1</td>\n",
       "      <td>2.500000e-07</td>\n",
       "    </tr>\n",
       "    <tr>\n",
       "      <th>ACCGGTGAGTTCTCGACAC</th>\n",
       "      <td>1</td>\n",
       "      <td>2.500000e-07</td>\n",
       "    </tr>\n",
       "    <tr>\n",
       "      <th>ACTGATGCAGCTGCAGTGC</th>\n",
       "      <td>1</td>\n",
       "      <td>2.500000e-07</td>\n",
       "    </tr>\n",
       "    <tr>\n",
       "      <th>CGATCTTGCCGATGCTGTT</th>\n",
       "      <td>1</td>\n",
       "      <td>2.500000e-07</td>\n",
       "    </tr>\n",
       "    <tr>\n",
       "      <th>CCTTCAGGGGGTCCACCGC</th>\n",
       "      <td>1</td>\n",
       "      <td>2.500000e-07</td>\n",
       "    </tr>\n",
       "  </tbody>\n",
       "</table>\n",
       "<p>309758 rows × 2 columns</p>\n",
       "</div>"
      ],
      "text/plain": [
       "                     counts10        freq10\n",
       "GGCGCTCCTCCACAGCTCC      1852  4.630000e-04\n",
       "CCCGCGCTCGTTTCACACC      1827  4.567500e-04\n",
       "TATCGGTCTTTCCGCTGCC      1691  4.227500e-04\n",
       "CACAGCTCGCTGGCTCCCC      1652  4.130000e-04\n",
       "TGCGCTCCCCTTTATTTGC      1555  3.887500e-04\n",
       "...                       ...           ...\n",
       "TGTGCCGCGGTTCTTTGTT         1  2.500000e-07\n",
       "ACCGGTGAGTTCTCGACAC         1  2.500000e-07\n",
       "ACTGATGCAGCTGCAGTGC         1  2.500000e-07\n",
       "CGATCTTGCCGATGCTGTT         1  2.500000e-07\n",
       "CCTTCAGGGGGTCCACCGC         1  2.500000e-07\n",
       "\n",
       "[309758 rows x 2 columns]"
      ]
     },
     "execution_count": 36,
     "metadata": {},
     "output_type": "execute_result"
    }
   ],
   "source": [
    "countsd10"
   ]
  },
  {
   "cell_type": "code",
   "execution_count": 37,
   "id": "6e38988f",
   "metadata": {},
   "outputs": [],
   "source": [
    "#合并两个表格\n",
    "df_merge = countsd0.join(countsd10)"
   ]
  },
  {
   "cell_type": "code",
   "execution_count": 38,
   "id": "404dc2aa",
   "metadata": {},
   "outputs": [
    {
     "data": {
      "text/html": [
       "<div>\n",
       "<style scoped>\n",
       "    .dataframe tbody tr th:only-of-type {\n",
       "        vertical-align: middle;\n",
       "    }\n",
       "\n",
       "    .dataframe tbody tr th {\n",
       "        vertical-align: top;\n",
       "    }\n",
       "\n",
       "    .dataframe thead th {\n",
       "        text-align: right;\n",
       "    }\n",
       "</style>\n",
       "<table border=\"1\" class=\"dataframe\">\n",
       "  <thead>\n",
       "    <tr style=\"text-align: right;\">\n",
       "      <th></th>\n",
       "      <th>counts0</th>\n",
       "      <th>freq0</th>\n",
       "      <th>counts10</th>\n",
       "      <th>freq10</th>\n",
       "      <th>log2f</th>\n",
       "    </tr>\n",
       "  </thead>\n",
       "  <tbody>\n",
       "    <tr>\n",
       "      <th>GGTGGTGCCCATCCTGGTC</th>\n",
       "      <td>1025</td>\n",
       "      <td>2.562500e-04</td>\n",
       "      <td>973.0</td>\n",
       "      <td>2.432500e-04</td>\n",
       "      <td>0.075112</td>\n",
       "    </tr>\n",
       "    <tr>\n",
       "      <th>CCCGCGCTCGTTTCACACC</th>\n",
       "      <td>974</td>\n",
       "      <td>2.435000e-04</td>\n",
       "      <td>1827.0</td>\n",
       "      <td>4.567500e-04</td>\n",
       "      <td>-0.907483</td>\n",
       "    </tr>\n",
       "    <tr>\n",
       "      <th>TACCGGCTCCTCTCCGTTC</th>\n",
       "      <td>964</td>\n",
       "      <td>2.410000e-04</td>\n",
       "      <td>938.0</td>\n",
       "      <td>2.345000e-04</td>\n",
       "      <td>0.039445</td>\n",
       "    </tr>\n",
       "    <tr>\n",
       "      <th>CACTGAACTCGTACAAACC</th>\n",
       "      <td>955</td>\n",
       "      <td>2.387500e-04</td>\n",
       "      <td>914.0</td>\n",
       "      <td>2.285000e-04</td>\n",
       "      <td>0.063307</td>\n",
       "    </tr>\n",
       "    <tr>\n",
       "      <th>GCAGCTACCTGCTCCCTGC</th>\n",
       "      <td>949</td>\n",
       "      <td>2.372500e-04</td>\n",
       "      <td>1179.0</td>\n",
       "      <td>2.947500e-04</td>\n",
       "      <td>-0.313084</td>\n",
       "    </tr>\n",
       "    <tr>\n",
       "      <th>...</th>\n",
       "      <td>...</td>\n",
       "      <td>...</td>\n",
       "      <td>...</td>\n",
       "      <td>...</td>\n",
       "      <td>...</td>\n",
       "    </tr>\n",
       "    <tr>\n",
       "      <th>CTATGTCTCCAAGCTGCCC</th>\n",
       "      <td>1</td>\n",
       "      <td>2.500000e-07</td>\n",
       "      <td>NaN</td>\n",
       "      <td>NaN</td>\n",
       "      <td>NaN</td>\n",
       "    </tr>\n",
       "    <tr>\n",
       "      <th>CTGGTTACTGTGTCCTGAC</th>\n",
       "      <td>1</td>\n",
       "      <td>2.500000e-07</td>\n",
       "      <td>NaN</td>\n",
       "      <td>NaN</td>\n",
       "      <td>NaN</td>\n",
       "    </tr>\n",
       "    <tr>\n",
       "      <th>CGTGTCTCGCGGTCTCCAA</th>\n",
       "      <td>1</td>\n",
       "      <td>2.500000e-07</td>\n",
       "      <td>NaN</td>\n",
       "      <td>NaN</td>\n",
       "      <td>NaN</td>\n",
       "    </tr>\n",
       "    <tr>\n",
       "      <th>AGACTTCAAATCCGAAGGC</th>\n",
       "      <td>1</td>\n",
       "      <td>2.500000e-07</td>\n",
       "      <td>2.0</td>\n",
       "      <td>5.000000e-07</td>\n",
       "      <td>-1.000000</td>\n",
       "    </tr>\n",
       "    <tr>\n",
       "      <th>CCGACAGCCTCGATCCGGC</th>\n",
       "      <td>1</td>\n",
       "      <td>2.500000e-07</td>\n",
       "      <td>NaN</td>\n",
       "      <td>NaN</td>\n",
       "      <td>NaN</td>\n",
       "    </tr>\n",
       "  </tbody>\n",
       "</table>\n",
       "<p>320114 rows × 5 columns</p>\n",
       "</div>"
      ],
      "text/plain": [
       "                     counts0         freq0  counts10        freq10     log2f\n",
       "GGTGGTGCCCATCCTGGTC     1025  2.562500e-04     973.0  2.432500e-04  0.075112\n",
       "CCCGCGCTCGTTTCACACC      974  2.435000e-04    1827.0  4.567500e-04 -0.907483\n",
       "TACCGGCTCCTCTCCGTTC      964  2.410000e-04     938.0  2.345000e-04  0.039445\n",
       "CACTGAACTCGTACAAACC      955  2.387500e-04     914.0  2.285000e-04  0.063307\n",
       "GCAGCTACCTGCTCCCTGC      949  2.372500e-04    1179.0  2.947500e-04 -0.313084\n",
       "...                      ...           ...       ...           ...       ...\n",
       "CTATGTCTCCAAGCTGCCC        1  2.500000e-07       NaN           NaN       NaN\n",
       "CTGGTTACTGTGTCCTGAC        1  2.500000e-07       NaN           NaN       NaN\n",
       "CGTGTCTCGCGGTCTCCAA        1  2.500000e-07       NaN           NaN       NaN\n",
       "AGACTTCAAATCCGAAGGC        1  2.500000e-07       2.0  5.000000e-07 -1.000000\n",
       "CCGACAGCCTCGATCCGGC        1  2.500000e-07       NaN           NaN       NaN\n",
       "\n",
       "[320114 rows x 5 columns]"
      ]
     },
     "execution_count": 38,
     "metadata": {},
     "output_type": "execute_result"
    }
   ],
   "source": [
    "#计算变化率\n",
    "df_merge['log2f']=np.log2(df_merge['freq0']/df_merge['freq10'])\n",
    "df_merge"
   ]
  },
  {
   "cell_type": "code",
   "execution_count": 39,
   "id": "ea8f94ad",
   "metadata": {},
   "outputs": [],
   "source": [
    "df_merge.to_csv('result1.csv')"
   ]
  },
  {
   "cell_type": "code",
   "execution_count": null,
   "id": "d3fe749c",
   "metadata": {},
   "outputs": [],
   "source": []
  }
 ],
 "metadata": {
  "kernelspec": {
   "display_name": "Python 3 (ipykernel)",
   "language": "python",
   "name": "python3"
  },
  "language_info": {
   "codemirror_mode": {
    "name": "ipython",
    "version": 3
   },
   "file_extension": ".py",
   "mimetype": "text/x-python",
   "name": "python",
   "nbconvert_exporter": "python",
   "pygments_lexer": "ipython3",
   "version": "3.9.7"
  }
 },
 "nbformat": 4,
 "nbformat_minor": 5
}

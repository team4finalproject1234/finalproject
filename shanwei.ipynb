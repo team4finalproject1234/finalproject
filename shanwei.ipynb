{
 "cells": [
  {
   "cell_type": "code",
   "execution_count": 55,
   "id": "07bd4555",
   "metadata": {},
   "outputs": [],
   "source": [
    "from Bio.SeqIO.QualityIO import FastqGeneralIterator\n",
    "from Bio import SeqIO\n",
    "import pandas as pd\n",
    "import numpy as np\n",
    "import pickle#先导入老师课堂上说的我们需要的模块\n",
    "import math\n",
    "from scipy import stats\n",
    "from statistics import *\n",
    "from pandas import Series , DataFrame\n",
    "import random"
   ]
  },
  {
   "cell_type": "code",
   "execution_count": 56,
   "id": "c6dd497b",
   "metadata": {},
   "outputs": [],
   "source": [
    "path = 'd:/result22.csv'#路径\n",
    "genedata1=pd.read_csv(path)"
   ]
  },
  {
   "cell_type": "code",
   "execution_count": 57,
   "id": "cbbf8cdb",
   "metadata": {},
   "outputs": [],
   "source": [
    "genedata2=genedata1.groupby('genename').head(1)#先分组排序\n",
    "#获取每个基因的基因名字，便于后续操作\n",
    "genenamelist=genedata2['genename'].values.tolist()#获取所有基因的名字并存在列表中备用"
   ]
  },
  {
   "cell_type": "code",
   "execution_count": 58,
   "id": "397f7e34",
   "metadata": {},
   "outputs": [
    {
     "data": {
      "text/plain": [
       "[0.237351005, 0.037553803, 0.156725504, 0.089047314, 0.435584877]"
      ]
     },
     "execution_count": 58,
     "metadata": {},
     "output_type": "execute_result"
    }
   ],
   "source": [
    "geneonenamedata=genedata1[genedata1['genename'] == 'A2M']#获取基因名字为A2M的所有信息\n",
    "listgeneonenamedata_log2f=geneonenamedata['log2f - median_of_control'].values.tolist()#将基因A2M的log2f信息转为列表\n",
    "nongeneonenamedata=genedata1[genedata1['genename'] == 'non-targeting']#获取non-tageting基因的所有信息\n",
    "listnongeneonenamedata_log2f=nongeneonenamedata['log2f - median_of_control'].values.tolist()#将non-tageting基因的log2f转为列表\n",
    "import random#这里要对non-tageting基因处理随机选取出需要数目的元素\n",
    "data = listnongeneonenamedata_log2f\n",
    "sample_num = 5#截取的数量与A2M相同才行\n",
    "listnongeneonenamedata_log2f_result=random.sample(data, sample_num)\n",
    "listnongeneonenamedata_log2f_result"
   ]
  },
  {
   "cell_type": "code",
   "execution_count": 59,
   "id": "8c4a6d8b",
   "metadata": {},
   "outputs": [],
   "source": [
    "genemeandata=[]\n",
    "geneutest=[]\n",
    "for i in range(0,len(genenamelist)):\n",
    "    geneonenamedata=genedata1[genedata1['genename'] == genenamelist[i]]#顺序选取列表，获取基因N名字的所有信息\n",
    "    listgeneonenamedata_log2f=geneonenamedata['log2f - median_of_control'].values.tolist()#将基因N的log2f信息转为列表\n",
    "    nongeneonenamedata=genedata1[genedata1['genename'] == 'non-targeting']#获取non-tageting基因的所有信息\n",
    "    listnongeneonenamedata_log2f=nongeneonenamedata['log2f - median_of_control'].values.tolist()#将non-tageting基因的log2f转为列表\n",
    "    \n",
    "    #这里要对non-tageting基因处理随机选取出需要数目的元素\n",
    "    data = listnongeneonenamedata_log2f\n",
    "    sample_num = len(geneonenamedata)#截取的数量与A2M相同才行\n",
    "    listnongeneonenamedata_log2f_result=random.sample(data, sample_num)\n",
    "    \n",
    "    group1=listgeneonenamedata_log2f#dataframe提取指定行指定列的值，然后转为列表\n",
    "    group2=listnongeneonenamedata_log2f_result#dataframe提取指定行指定列的值，然后转为列表\n",
    "    Udata=stats.mannwhitneyu(group1,group2,alternative='two-sided')[1]#第二步完成U检验\n",
    "    geneutest.append(Udata)\n",
    "    meandata=sum(group1)/len(group1)#取均值\n",
    "    genemeandata.append(meandata)"
   ]
  },
  {
   "cell_type": "code",
   "execution_count": 62,
   "id": "a6e70c75",
   "metadata": {},
   "outputs": [],
   "source": [
    "genedata={'Gene name':genenamelist,'U test':geneutest,'MEAN':genemeandata}\n",
    "genedata_ = DataFrame(Utest)"
   ]
  },
  {
   "cell_type": "code",
   "execution_count": 65,
   "id": "3abae352",
   "metadata": {},
   "outputs": [
    {
     "ename": "AttributeError",
     "evalue": "'dict' object has no attribute 'to_csv'",
     "output_type": "error",
     "traceback": [
      "\u001b[1;31m---------------------------------------------------------------------------\u001b[0m",
      "\u001b[1;31mAttributeError\u001b[0m                            Traceback (most recent call last)",
      "\u001b[1;32m<ipython-input-65-ee5f8db3baf5>\u001b[0m in \u001b[0;36m<module>\u001b[1;34m\u001b[0m\n\u001b[1;32m----> 1\u001b[1;33m \u001b[0mgenedata\u001b[0m\u001b[1;33m.\u001b[0m\u001b[0mto_csv\u001b[0m\u001b[1;33m(\u001b[0m\u001b[1;34m\"result_for_plot.csv\"\u001b[0m\u001b[1;33m)\u001b[0m\u001b[1;31m#将文件保存为csv文件\u001b[0m\u001b[1;33m\u001b[0m\u001b[1;33m\u001b[0m\u001b[0m\n\u001b[0m",
      "\u001b[1;31mAttributeError\u001b[0m: 'dict' object has no attribute 'to_csv'"
     ]
    }
   ],
   "source": [
    "genedata.to_csv(\"result_for_plot.csv\")#将文件保存为csv文件"
   ]
  },
  {
   "cell_type": "code",
   "execution_count": null,
   "id": "1d37f9f3",
   "metadata": {},
   "outputs": [],
   "source": []
  }
 ],
 "metadata": {
  "kernelspec": {
   "display_name": "Python 3",
   "language": "python",
   "name": "python3"
  },
  "language_info": {
   "codemirror_mode": {
    "name": "ipython",
    "version": 3
   },
   "file_extension": ".py",
   "mimetype": "text/x-python",
   "name": "python",
   "nbconvert_exporter": "python",
   "pygments_lexer": "ipython3",
   "version": "3.8.8"
  }
 },
 "nbformat": 4,
 "nbformat_minor": 5
}
